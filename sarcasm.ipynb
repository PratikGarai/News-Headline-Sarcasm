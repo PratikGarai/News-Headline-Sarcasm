{
 "cells": [
  {
   "cell_type": "markdown",
   "metadata": {},
   "source": [
    "<h1>Detection Of Sarcasm in news headlines using NLP</h1>"
   ]
  },
  {
   "cell_type": "code",
   "execution_count": 1,
   "metadata": {
    "id": "-drwSu6-LOWk"
   },
   "outputs": [],
   "source": [
    "import tensorflow as tf\n",
    "from tensorflow.keras.preprocessing.text import Tokenizer\n",
    "from tensorflow.keras.preprocessing.sequence import pad_sequences\n",
    "import json\n",
    "import numpy as np"
   ]
  },
  {
   "cell_type": "code",
   "execution_count": 2,
   "metadata": {
    "colab": {
     "base_uri": "https://localhost:8080/"
    },
    "id": "RVMm2ayFdWoy",
    "outputId": "2bdf61de-00cc-49ef-f9f4-ded528c8ce55"
   },
   "outputs": [
    {
     "name": "stderr",
     "output_type": "stream",
     "text": [
      "'wget' is not recognized as an internal or external command,\n",
      "operable program or batch file.\n"
     ]
    }
   ],
   "source": [
    "!wget --no-check-certificate \\\n",
    "    https://storage.googleapis.com/laurencemoroney-blog.appspot.com/sarcasm.json \\\n",
    "    -O sarcasm.json"
   ]
  },
  {
   "cell_type": "code",
   "execution_count": 2,
   "metadata": {
    "id": "QFPnnaw_dpWG"
   },
   "outputs": [],
   "source": [
    "datastore = None\n",
    "with open(\"sarcasm.json\", 'r') as f:\n",
    "    datastore = json.load(f)\n",
    "\n",
    "sentences = []\n",
    "labels = []\n",
    "\n",
    "for item in datastore:\n",
    "    sentences.append(item['headline'])\n",
    "    labels.append(item['is_sarcastic'])"
   ]
  },
  {
   "cell_type": "code",
   "execution_count": 3,
   "metadata": {
    "colab": {
     "base_uri": "https://localhost:8080/"
    },
    "id": "G2Of5zWaeBai",
    "outputId": "063bf781-d437-4426-e006-24bfab384911"
   },
   "outputs": [
    {
     "name": "stdout",
     "output_type": "stream",
     "text": [
      "<class 'list'>\n",
      "{'article_link': 'https://www.huffingtonpost.com/entry/versace-black-code_us_5861fbefe4b0de3a08f600d5', 'headline': \"former versace store clerk sues over secret 'black code' for minority shoppers\", 'is_sarcastic': 0}\n",
      "{'article_link': 'https://local.theonion.com/mom-starting-to-fear-son-s-web-series-closest-thing-she-1819576697', 'headline': \"mom starting to fear son's web series closest thing she will have to grandchild\", 'is_sarcastic': 1}\n"
     ]
    }
   ],
   "source": [
    "print(type(datastore))\n",
    "print(datastore[0])\n",
    "print(datastore[2])"
   ]
  },
  {
   "cell_type": "code",
   "execution_count": 4,
   "metadata": {
    "colab": {
     "base_uri": "https://localhost:8080/"
    },
    "id": "h1ILMt3-eDE7",
    "outputId": "62e60e29-5d26-4d8f-8126-1125b5422ef2"
   },
   "outputs": [
    {
     "data": {
      "text/plain": [
       "26709"
      ]
     },
     "execution_count": 4,
     "metadata": {},
     "output_type": "execute_result"
    }
   ],
   "source": [
    "len(sentences)"
   ]
  },
  {
   "cell_type": "code",
   "execution_count": 5,
   "metadata": {
    "id": "RmNC_ZJRecmS"
   },
   "outputs": [],
   "source": [
    "tokenizer = Tokenizer(oov_token='<OOV>')\n",
    "tokenizer.fit_on_texts(sentences)\n",
    "word_index = tokenizer.word_index\n",
    "\n",
    "sequences = tokenizer.texts_to_sequences(sentences)\n",
    "padded = pad_sequences(sequences, padding='post')"
   ]
  },
  {
   "cell_type": "code",
   "execution_count": 6,
   "metadata": {
    "colab": {
     "base_uri": "https://localhost:8080/"
    },
    "id": "CjkBPSd1md5b",
    "outputId": "1fbac1ef-8e49-464d-960e-44bcd474d830"
   },
   "outputs": [
    {
     "name": "stdout",
     "output_type": "stream",
     "text": [
      "[  308 15115   679  3337  2298    48   382  2576 15116     6  2577  8434\n",
      "     0     0     0     0     0     0     0     0     0     0     0     0\n",
      "     0     0     0     0     0     0     0     0     0     0     0     0\n",
      "     0     0     0     0]\n"
     ]
    }
   ],
   "source": [
    "print(padded[0])"
   ]
  },
  {
   "cell_type": "code",
   "execution_count": 7,
   "metadata": {
    "colab": {
     "base_uri": "https://localhost:8080/"
    },
    "id": "_fxaiQFUmf2p",
    "outputId": "491e032a-bc3d-4d41-cf64-d105db0984dc"
   },
   "outputs": [
    {
     "name": "stdout",
     "output_type": "stream",
     "text": [
      "(26709, 40)\n"
     ]
    }
   ],
   "source": [
    "print(padded.shape)"
   ]
  },
  {
   "cell_type": "code",
   "execution_count": 8,
   "metadata": {
    "id": "VmMoCg74m5Rw"
   },
   "outputs": [],
   "source": [
    "train_size = 20000\n",
    "max_length = 15\n",
    "max_words = 20000"
   ]
  },
  {
   "cell_type": "code",
   "execution_count": 9,
   "metadata": {
    "id": "IOG524zg6PPh"
   },
   "outputs": [],
   "source": [
    "trainX = sentences[:train_size]\n",
    "testX = sentences[train_size:]\n",
    "\n",
    "trainY = labels[:train_size]\n",
    "testY = labels[train_size:]"
   ]
  },
  {
   "cell_type": "code",
   "execution_count": 10,
   "metadata": {
    "id": "OSPr7iuK-j02"
   },
   "outputs": [],
   "source": [
    "tokenizer = Tokenizer(oov_token='<OOV>', num_words = max_words)\n",
    "tokenizer.fit_on_texts(trainX)\n",
    "\n",
    "word_index = tokenizer.word_index\n",
    "\n",
    "trainS = tokenizer.texts_to_sequences(trainX)\n",
    "testS = tokenizer.texts_to_sequences(testX)"
   ]
  },
  {
   "cell_type": "code",
   "execution_count": 11,
   "metadata": {
    "id": "n_xc7kmMj_lg"
   },
   "outputs": [],
   "source": [
    "padTrain = pad_sequences(trainS, maxlen=max_length, padding='post', truncating='post')\n",
    "padTest = pad_sequences(testS, maxlen=max_length, padding='post', truncating='post')"
   ]
  },
  {
   "cell_type": "code",
   "execution_count": 12,
   "metadata": {
    "colab": {
     "base_uri": "https://localhost:8080/"
    },
    "id": "lvmI-ozrkFDC",
    "outputId": "1a3656d5-d170-4a31-aa67-bedb60a06807"
   },
   "outputs": [
    {
     "name": "stdout",
     "output_type": "stream",
     "text": [
      "[17706  1100  6663  9423    30 11505  2439     5   519   109     0     0\n",
      "     0     0     0]\n"
     ]
    }
   ],
   "source": [
    "print(padTest[0])"
   ]
  },
  {
   "cell_type": "markdown",
   "metadata": {},
   "source": [
    "<h3>Model creation</h3>"
   ]
  },
  {
   "cell_type": "code",
   "execution_count": 13,
   "metadata": {
    "id": "MVm3a5Buk6EX"
   },
   "outputs": [],
   "source": [
    "model = tf.keras.Sequential([\n",
    "                             tf.keras.layers.Embedding(max_words, 16, input_length=max_length),\n",
    "                             tf.keras.layers.GlobalAveragePooling1D(),\n",
    "                             tf.keras.layers.Dense(24, activation='relu'),\n",
    "                             tf.keras.layers.Dense(1, activation='sigmoid')\n",
    "])\n",
    "\n",
    "model.compile(loss='binary_crossentropy', optimizer='adam', metrics=['accuracy'])"
   ]
  },
  {
   "cell_type": "code",
   "execution_count": 14,
   "metadata": {
    "colab": {
     "base_uri": "https://localhost:8080/"
    },
    "id": "OvhzhEjUmJvK",
    "outputId": "b1933fd4-9cd8-4537-f2bb-9cba5703285c"
   },
   "outputs": [
    {
     "name": "stdout",
     "output_type": "stream",
     "text": [
      "Epoch 1/15\n",
      "625/625 [==============================] - 5s 8ms/step - loss: 0.4877 - accuracy: 0.7613 - val_loss: 0.3513 - val_accuracy: 0.8532\n",
      "Epoch 2/15\n",
      "625/625 [==============================] - 5s 7ms/step - loss: 0.2451 - accuracy: 0.9014 - val_loss: 0.3375 - val_accuracy: 0.8544\n",
      "Epoch 3/15\n",
      "625/625 [==============================] - 5s 8ms/step - loss: 0.1549 - accuracy: 0.9441 - val_loss: 0.3695 - val_accuracy: 0.8502\n",
      "Epoch 4/15\n",
      "625/625 [==============================] - 5s 7ms/step - loss: 0.1015 - accuracy: 0.9661 - val_loss: 0.4344 - val_accuracy: 0.8474\n",
      "Epoch 5/15\n",
      "625/625 [==============================] - 5s 8ms/step - loss: 0.0676 - accuracy: 0.9791 - val_loss: 0.4969 - val_accuracy: 0.8419\n",
      "Epoch 6/15\n",
      "625/625 [==============================] - 4s 7ms/step - loss: 0.0446 - accuracy: 0.9872 - val_loss: 0.5806 - val_accuracy: 0.8351\n",
      "Epoch 7/15\n",
      "625/625 [==============================] - 5s 7ms/step - loss: 0.0292 - accuracy: 0.9924 - val_loss: 0.6555 - val_accuracy: 0.8301\n",
      "Epoch 8/15\n",
      "625/625 [==============================] - 5s 8ms/step - loss: 0.0194 - accuracy: 0.9959 - val_loss: 0.7449 - val_accuracy: 0.8293\n",
      "Epoch 9/15\n",
      "625/625 [==============================] - 5s 8ms/step - loss: 0.0126 - accuracy: 0.9970 - val_loss: 0.8635 - val_accuracy: 0.8241\n",
      "Epoch 10/15\n",
      "625/625 [==============================] - 5s 8ms/step - loss: 0.0080 - accuracy: 0.9980 - val_loss: 0.9279 - val_accuracy: 0.8211\n",
      "Epoch 11/15\n",
      "625/625 [==============================] - 5s 8ms/step - loss: 0.0048 - accuracy: 0.9992 - val_loss: 1.0221 - val_accuracy: 0.8158\n",
      "Epoch 12/15\n",
      "625/625 [==============================] - 5s 8ms/step - loss: 0.0033 - accuracy: 0.9995 - val_loss: 1.1025 - val_accuracy: 0.8165\n",
      "Epoch 13/15\n",
      "625/625 [==============================] - 4s 7ms/step - loss: 0.0024 - accuracy: 0.9997 - val_loss: 1.1769 - val_accuracy: 0.8196\n",
      "Epoch 14/15\n",
      "625/625 [==============================] - 4s 7ms/step - loss: 0.0012 - accuracy: 0.9999 - val_loss: 1.2497 - val_accuracy: 0.8176\n",
      "Epoch 15/15\n",
      "625/625 [==============================] - 4s 7ms/step - loss: 7.0835e-04 - accuracy: 1.0000 - val_loss: 1.3262 - val_accuracy: 0.8158\n"
     ]
    },
    {
     "data": {
      "text/plain": [
       "<tensorflow.python.keras.callbacks.History at 0x11e054937c0>"
      ]
     },
     "execution_count": 14,
     "metadata": {},
     "output_type": "execute_result"
    }
   ],
   "source": [
    "model.fit(padTrain, np.array(trainY), epochs=15, validation_data=(padTest, np.array(testY)), verbose=1)"
   ]
  },
  {
   "cell_type": "markdown",
   "metadata": {},
   "source": [
    "<h3>Time to test</h3>"
   ]
  },
  {
   "cell_type": "code",
   "execution_count": 15,
   "metadata": {
    "id": "20JzP65bqSeW"
   },
   "outputs": [],
   "source": [
    "test_sentences = [\n",
    "                  'granny starting to fear that spiders in the garden might be real',\n",
    "                  'the weather today is bright and sunny'\n",
    "]\n",
    "\n",
    "sequences = tokenizer.texts_to_sequences(test_sentences)\n",
    "padded = pad_sequences(sequences, maxlen=max_length, padding='post', truncating='post')"
   ]
  },
  {
   "cell_type": "code",
   "execution_count": 16,
   "metadata": {
    "id": "gm3LiqpWsUec"
   },
   "outputs": [],
   "source": [
    "preds = model.predict(padded)"
   ]
  },
  {
   "cell_type": "code",
   "execution_count": 17,
   "metadata": {
    "colab": {
     "base_uri": "https://localhost:8080/"
    },
    "id": "-c-XnptuuCDM",
    "outputId": "f2788945-9579-417f-cc4c-f04158cb8e3d"
   },
   "outputs": [
    {
     "name": "stdout",
     "output_type": "stream",
     "text": [
      "granny starting to fear that spiders in the garden might be real\n",
      "- Sarcastic\n",
      "\n",
      "the weather today is bright and sunny\n",
      "- Not Sarcastic\n",
      "\n"
     ]
    }
   ],
   "source": [
    "for i in range(2):\n",
    "  print(test_sentences[i])\n",
    "  if preds[i]>=0.5 :\n",
    "    print(\"- Sarcastic\\n\")\n",
    "  else :\n",
    "    print(\"- Not Sarcastic\\n\")"
   ]
  }
 ],
 "metadata": {
  "colab": {
   "collapsed_sections": [],
   "name": "NLP 0toH.ipynb",
   "provenance": []
  },
  "kernelspec": {
   "display_name": "Python 3",
   "language": "python",
   "name": "python3"
  },
  "language_info": {
   "codemirror_mode": {
    "name": "ipython",
    "version": 3
   },
   "file_extension": ".py",
   "mimetype": "text/x-python",
   "name": "python",
   "nbconvert_exporter": "python",
   "pygments_lexer": "ipython3",
   "version": "3.8.5"
  }
 },
 "nbformat": 4,
 "nbformat_minor": 1
}
